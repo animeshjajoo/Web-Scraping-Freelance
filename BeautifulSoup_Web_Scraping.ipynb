{
  "nbformat": 4,
  "nbformat_minor": 0,
  "metadata": {
    "colab": {
      "provenance": []
    },
    "kernelspec": {
      "name": "python3",
      "display_name": "Python 3"
    },
    "language_info": {
      "name": "python"
    }
  },
  "cells": [
    {
      "cell_type": "markdown",
      "source": [
        "Code Template for Web Scraping using Beautiful Soup (useful to scrape single page websites)"
      ],
      "metadata": {
        "id": "lJvHVocuBXKs"
      }
    },
    {
      "cell_type": "code",
      "execution_count": null,
      "metadata": {
        "id": "4oSwfUVOQSmB"
      },
      "outputs": [],
      "source": [
        "import csv\n",
        "import requests\n",
        "from bs4 import BeautifulSoup\n"
      ]
    },
    {
      "cell_type": "code",
      "source": [
        "URL = 'https://example.com/' #enter website url inside quotes\n",
        "\n",
        "page = requests.get(URL)\n",
        "print(page)\n"
      ],
      "metadata": {
        "id": "MuDGKof3Qb5q"
      },
      "execution_count": null,
      "outputs": []
    },
    {
      "cell_type": "code",
      "source": [
        "#To scrape multiple websites, create a list of websites and loop through the list\n",
        "#only recommended when each website uses the same tags and class names to display information"
      ],
      "metadata": {
        "id": "UYwmRzxvCAaG"
      },
      "execution_count": null,
      "outputs": []
    },
    {
      "cell_type": "code",
      "source": [
        "soup = BeautifulSoup(page.content, 'html.parser')\n",
        "\n",
        "#Enter the tag and the tag class which contains all desired information to be scraped within the quotes\n",
        "results = soup.find_all('div', class_='div-class')"
      ],
      "metadata": {
        "id": "2bT7ECSgsw4V"
      },
      "execution_count": null,
      "outputs": []
    },
    {
      "cell_type": "code",
      "source": [
        "#creating a csv file (results.csv) to store all results\n",
        "\n",
        "with open('results.csv','w',encoding='utf8',newline='') as csvfile:\n",
        "  thewriter = csv.writer(csvfile)\n",
        "\n",
        "  #Column names for results\n",
        "  thewriter.writerow(['Title', 'Column-1', 'Column-2'])\n",
        "\n",
        "  #looping to extract results\n",
        "  for result in results:\n",
        "\n",
        "    #Enter the tag and the tag class which contains all desired information to be scraped within the quotes\n",
        "    #For example, the title text to be extracted is inside the h5 tag\n",
        "    # <h5 class=\"title-class\"> title </h5>\n",
        "    \n",
        "    title = result.find('h5', class_='title-class').text.replace('\\n','')\n",
        "\n",
        "    #similarly, for other information to be extracted, enter/replace the tag and class name within quotes\n",
        "    col1 = result.find('span', class_='span-class').text.replace('\\n','')\n",
        "    col2 = result.find('div', class_='div-class').text.replace('\\n','')\n",
        "\n",
        "    #adding results to results.csv\n",
        "    #each result will be displayed in a row\n",
        "\n",
        "    info = [title,col1,col2]\n",
        "    thewriter.writerow(info)\n",
        "    "
      ],
      "metadata": {
        "id": "m-pfwA1nuZjm"
      },
      "execution_count": null,
      "outputs": []
    },
    {
      "cell_type": "code",
      "source": [
        "#If you are using Google Colab, use the following commands to download the csv file\n",
        "#The csv can also be downloaded from the files section, present in the vertical menu on the left\n",
        "\n",
        "from google.colab import files\n",
        "files.download(\"results.csv\")"
      ],
      "metadata": {
        "id": "0IeaBSY27l8S",
        "outputId": "afb0e55f-a8c2-40d3-ca46-5afa2471bb53",
        "colab": {
          "base_uri": "https://localhost:8080/",
          "height": 17
        }
      },
      "execution_count": null,
      "outputs": [
        {
          "output_type": "display_data",
          "data": {
            "text/plain": [
              "<IPython.core.display.Javascript object>"
            ],
            "application/javascript": [
              "\n",
              "    async function download(id, filename, size) {\n",
              "      if (!google.colab.kernel.accessAllowed) {\n",
              "        return;\n",
              "      }\n",
              "      const div = document.createElement('div');\n",
              "      const label = document.createElement('label');\n",
              "      label.textContent = `Downloading \"${filename}\": `;\n",
              "      div.appendChild(label);\n",
              "      const progress = document.createElement('progress');\n",
              "      progress.max = size;\n",
              "      div.appendChild(progress);\n",
              "      document.body.appendChild(div);\n",
              "\n",
              "      const buffers = [];\n",
              "      let downloaded = 0;\n",
              "\n",
              "      const channel = await google.colab.kernel.comms.open(id);\n",
              "      // Send a message to notify the kernel that we're ready.\n",
              "      channel.send({})\n",
              "\n",
              "      for await (const message of channel.messages) {\n",
              "        // Send a message to notify the kernel that we're ready.\n",
              "        channel.send({})\n",
              "        if (message.buffers) {\n",
              "          for (const buffer of message.buffers) {\n",
              "            buffers.push(buffer);\n",
              "            downloaded += buffer.byteLength;\n",
              "            progress.value = downloaded;\n",
              "          }\n",
              "        }\n",
              "      }\n",
              "      const blob = new Blob(buffers, {type: 'application/binary'});\n",
              "      const a = document.createElement('a');\n",
              "      a.href = window.URL.createObjectURL(blob);\n",
              "      a.download = filename;\n",
              "      div.appendChild(a);\n",
              "      a.click();\n",
              "      div.remove();\n",
              "    }\n",
              "  "
            ]
          },
          "metadata": {}
        },
        {
          "output_type": "display_data",
          "data": {
            "text/plain": [
              "<IPython.core.display.Javascript object>"
            ],
            "application/javascript": [
              "download(\"download_7bf5f6a7-6b86-4937-9928-98e7cd49b1b2\", \"results.csv\", 2663)"
            ]
          },
          "metadata": {}
        }
      ]
    }
  ]
}