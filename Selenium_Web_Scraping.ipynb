{
  "nbformat": 4,
  "nbformat_minor": 0,
  "metadata": {
    "colab": {
      "provenance": []
    },
    "kernelspec": {
      "name": "python3",
      "display_name": "Python 3"
    },
    "language_info": {
      "name": "python"
    }
  },
  "cells": [
    {
      "cell_type": "code",
      "source": [
        "#installing selenium and webdriver to use in a colab notebook\n",
        "\n",
        "!pip install selenium\n",
        "!pip install webdriver-manager"
      ],
      "metadata": {
        "id": "kTQm89jTi0tE"
      },
      "execution_count": null,
      "outputs": []
    },
    {
      "cell_type": "code",
      "source": [
        "from selenium.webdriver.common.by import By\n",
        "from selenium.webdriver.common.keys import Keys\n",
        "from selenium import webdriver\n",
        "from selenium.webdriver.chrome.service import Service "
      ],
      "metadata": {
        "id": "-oCbVoWNi9Tg"
      },
      "execution_count": null,
      "outputs": []
    },
    {
      "cell_type": "code",
      "source": [
        "import pandas as pd\n",
        "import time"
      ],
      "metadata": {
        "id": "XX_hqh2j7h6c"
      },
      "execution_count": null,
      "outputs": []
    },
    {
      "cell_type": "code",
      "source": [
        "#installing kora (to use webdriver in a colab notebook)\n",
        "# Do not install for local machines\n",
        "\n",
        "!pip install kora -q\n",
        "from kora.selenium import wd"
      ],
      "metadata": {
        "id": "sTK8K6krjAfn"
      },
      "execution_count": null,
      "outputs": []
    },
    {
      "cell_type": "code",
      "source": [
        "#enter url within quotes\n",
        "wd.get('https://example.com')"
      ],
      "metadata": {
        "id": "vEBXqFCCjx8k"
      },
      "execution_count": null,
      "outputs": []
    },
    {
      "cell_type": "code",
      "source": [
        "#for buttons present on the webpage\n",
        "#Enter the XPath of the element(button) inside the quotes\n",
        "button = wd.find_element(By.XPATH, '/html/body/div[1]/div/div/div/div[2]/div[2]/div[2]/div[2]/button[2]')"
      ],
      "metadata": {
        "id": "FVnglk_0w5fc"
      },
      "execution_count": null,
      "outputs": []
    },
    {
      "cell_type": "code",
      "source": [
        "#Alternativly, wd.find_element(By.CSS_SELECTOR,'.class-name') can be used to find elements using CSS selector"
      ],
      "metadata": {
        "id": "nUE-mxdZWXwf"
      },
      "execution_count": null,
      "outputs": []
    },
    {
      "cell_type": "code",
      "source": [
        "#create a list to store results\n",
        "all_info = []\n",
        "\n",
        "#looping to extract results from first 100 pages\n",
        "\n",
        "for _ in range(100): #change number inside () accordingly\n",
        "  #each page has 30 elements\n",
        "  for i in range(1,31): #change number inside () accordingly\n",
        "\n",
        "    col1 = wd.find_element(By.XPATH, f'/html/body/div[1]/div/div/div/div[2]/div[2]/div[2]/div[1]/a[{i}]/div/h5')\n",
        "    col2 = wd.find_element(By.XPATH, f'/html/body/div[1]/div/div/div/div[2]/div[2]/div[2]/div[1]/a[{i}]/div/div[2]/span[1]')\n",
        "    col3 = wd.find_element(By.XPATH, f'/html/body/div[1]/div/div/div/div[2]/div[2]/div[2]/div[1]/a[{i}]/div/div[1]')\n",
        "\n",
        "    info = [col1.text,col2.text,col3.text]\n",
        "    #To extract attributes instead of text, use column_name.get_attribute('attribute')\n",
        "    #To extract links, replace attribute with href\n",
        "\n",
        "    all_info.append(info)\n",
        "\n",
        "  button.click() #clicking next page button\n",
        "  time.sleep(1)"
      ],
      "metadata": {
        "id": "hEN_c7uZ88MH"
      },
      "execution_count": null,
      "outputs": []
    },
    {
      "cell_type": "code",
      "source": [
        "#converting list to pandas dataframe\n",
        "df = pd.DataFrame(all_info, columns = ['Column 1', 'Column 2', 'Column 3']) #replace with desired column names\n",
        "\n",
        "\n",
        "#converting to csv\n",
        "df.to_csv('results.csv', index=True)"
      ],
      "metadata": {
        "id": "9Dk4vjGd9o7N"
      },
      "execution_count": null,
      "outputs": []
    },
    {
      "cell_type": "code",
      "source": [
        "#If you are using Google Colab, use the following commands to download the csv file\n",
        "#The csv can also be downloaded from the files section, present in the vertical menu on the left\n",
        "\n",
        "from google.colab import files\n",
        "files.download(\"results.csv\")"
      ],
      "metadata": {
        "id": "f3OQmoGNbNCI"
      },
      "execution_count": null,
      "outputs": []
    }
  ]
}